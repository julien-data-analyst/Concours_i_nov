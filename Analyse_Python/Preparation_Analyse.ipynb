{
 "cells": [
  {
   "cell_type": "markdown",
   "metadata": {},
   "source": [
    "# Préparation et Analyse des projets retenus lors des [Concours i-Nov](https://www.enseignementsup-recherche.gouv.fr/fr/le-concours-i-nov-49817) (2017)\n",
    "\n",
    "Dans ce notebook, nous allons préparer et analyser nos données sur les projets retenus lors des Concours i-Nov. Cela concerne les 10 vagues (2017-2023) dont chaque ligne concerne un projet retenu. "
   ]
  },
  {
   "cell_type": "code",
   "execution_count": 1,
   "metadata": {},
   "outputs": [],
   "source": [
    "import pandas as pd\n",
    "import plotnine as plt\n",
    "import numpy as np"
   ]
  },
  {
   "cell_type": "markdown",
   "metadata": {},
   "source": [
    "## Importation des données\n",
    "Dans cette partie, nous allons importer les données pour qu'on puisse les préparer. Elle se trouve sous le nom de *i_nov_vag_1_10_somm_inf.csv* qui est dans le dossier *Data*."
   ]
  },
  {
   "cell_type": "code",
   "execution_count": 3,
   "metadata": {},
   "outputs": [],
   "source": [
    "# Application de l'importation (après avoir observé avec cat i_nov_vag_1_10_somm_inf.csv dans le terminal)\n",
    "dataset = pd.read_csv(\"../Data/i_nov_vag_1_10_somm_inf.csv\",\n",
    "        sep = \";\")"
   ]
  },
  {
   "cell_type": "code",
   "execution_count": null,
   "metadata": {},
   "outputs": [
    {
     "data": {
      "text/html": [
       "<div>\n",
       "<style scoped>\n",
       "    .dataframe tbody tr th:only-of-type {\n",
       "        vertical-align: middle;\n",
       "    }\n",
       "\n",
       "    .dataframe tbody tr th {\n",
       "        vertical-align: top;\n",
       "    }\n",
       "\n",
       "    .dataframe thead th {\n",
       "        text-align: right;\n",
       "    }\n",
       "</style>\n",
       "<table border=\"1\" class=\"dataframe\">\n",
       "  <thead>\n",
       "    <tr style=\"text-align: right;\">\n",
       "      <th></th>\n",
       "      <th>ENTREPRISES</th>\n",
       "      <th>PROJETS</th>\n",
       "      <th>THEMATIQUE</th>\n",
       "      <th>PAGE</th>\n",
       "      <th>VAGUE</th>\n",
       "      <th>URL_FICH_ORIGINE</th>\n",
       "      <th>REALISATION_DEBUT</th>\n",
       "      <th>REALISATION_FIN</th>\n",
       "      <th>MONTANT</th>\n",
       "      <th>AIDE</th>\n",
       "      <th>DEPT</th>\n",
       "    </tr>\n",
       "  </thead>\n",
       "  <tbody>\n",
       "    <tr>\n",
       "      <th>0</th>\n",
       "      <td>AB Tasty</td>\n",
       "      <td>Personnalisation</td>\n",
       "      <td>NUMÉRIQUE</td>\n",
       "      <td>57</td>\n",
       "      <td>1</td>\n",
       "      <td>../Data/vague_1_6/i-nov-palmar-s-vague-1-19087...</td>\n",
       "      <td>2018</td>\n",
       "      <td>2020.0</td>\n",
       "      <td>3590054</td>\n",
       "      <td>NaN</td>\n",
       "      <td>75</td>\n",
       "    </tr>\n",
       "    <tr>\n",
       "      <th>1</th>\n",
       "      <td>AB7 Industries</td>\n",
       "      <td>Terrabios</td>\n",
       "      <td>AGRICULTURE INNOVANTE</td>\n",
       "      <td>38</td>\n",
       "      <td>1</td>\n",
       "      <td>../Data/vague_1_6/i-nov-palmar-s-vague-1-19087...</td>\n",
       "      <td>2018</td>\n",
       "      <td>2020.0</td>\n",
       "      <td>626806</td>\n",
       "      <td>197565.0</td>\n",
       "      <td>31</td>\n",
       "    </tr>\n",
       "    <tr>\n",
       "      <th>2</th>\n",
       "      <td>ACCENTA</td>\n",
       "      <td>ACCENTA.AI</td>\n",
       "      <td>ÉNERGIES RENOUVELABLES, STOCKAGE ET SYSTÈMES É...</td>\n",
       "      <td>7</td>\n",
       "      <td>1</td>\n",
       "      <td>../Data/vague_1_6/i-nov-palmar-s-vague-1-19087...</td>\n",
       "      <td>2018</td>\n",
       "      <td>2021.0</td>\n",
       "      <td>790331</td>\n",
       "      <td>355649.0</td>\n",
       "      <td>91</td>\n",
       "    </tr>\n",
       "    <tr>\n",
       "      <th>3</th>\n",
       "      <td>Aenitis Technologies</td>\n",
       "      <td>ALI-S</td>\n",
       "      <td>SANTÉ</td>\n",
       "      <td>80</td>\n",
       "      <td>1</td>\n",
       "      <td>../Data/vague_1_6/i-nov-palmar-s-vague-1-19087...</td>\n",
       "      <td>2018</td>\n",
       "      <td>2021.0</td>\n",
       "      <td>2451391</td>\n",
       "      <td>NaN</td>\n",
       "      <td>75 77 49 39 59</td>\n",
       "    </tr>\n",
       "    <tr>\n",
       "      <th>4</th>\n",
       "      <td>AIRWEB</td>\n",
       "      <td>TICKET_UNIVERSEL</td>\n",
       "      <td>TRANSPORT ET MOBILITÉ DURABLE</td>\n",
       "      <td>24</td>\n",
       "      <td>1</td>\n",
       "      <td>../Data/vague_1_6/i-nov-palmar-s-vague-1-19087...</td>\n",
       "      <td>2018</td>\n",
       "      <td>2019.0</td>\n",
       "      <td>671932</td>\n",
       "      <td>302369.0</td>\n",
       "      <td>92</td>\n",
       "    </tr>\n",
       "  </tbody>\n",
       "</table>\n",
       "</div>"
      ],
      "text/plain": [
       "            ENTREPRISES           PROJETS  \\\n",
       "0              AB Tasty  Personnalisation   \n",
       "1        AB7 Industries         Terrabios   \n",
       "2               ACCENTA        ACCENTA.AI   \n",
       "3  Aenitis Technologies             ALI-S   \n",
       "4                AIRWEB  TICKET_UNIVERSEL   \n",
       "\n",
       "                                          THEMATIQUE  PAGE  VAGUE  \\\n",
       "0                                          NUMÉRIQUE    57      1   \n",
       "1                              AGRICULTURE INNOVANTE    38      1   \n",
       "2  ÉNERGIES RENOUVELABLES, STOCKAGE ET SYSTÈMES É...     7      1   \n",
       "3                                              SANTÉ    80      1   \n",
       "4                      TRANSPORT ET MOBILITÉ DURABLE    24      1   \n",
       "\n",
       "                                    URL_FICH_ORIGINE  REALISATION_DEBUT  \\\n",
       "0  ../Data/vague_1_6/i-nov-palmar-s-vague-1-19087...               2018   \n",
       "1  ../Data/vague_1_6/i-nov-palmar-s-vague-1-19087...               2018   \n",
       "2  ../Data/vague_1_6/i-nov-palmar-s-vague-1-19087...               2018   \n",
       "3  ../Data/vague_1_6/i-nov-palmar-s-vague-1-19087...               2018   \n",
       "4  ../Data/vague_1_6/i-nov-palmar-s-vague-1-19087...               2018   \n",
       "\n",
       "   REALISATION_FIN  MONTANT      AIDE            DEPT  \n",
       "0           2020.0  3590054       NaN              75  \n",
       "1           2020.0   626806  197565.0              31  \n",
       "2           2021.0   790331  355649.0              91  \n",
       "3           2021.0  2451391       NaN  75 77 49 39 59  \n",
       "4           2019.0   671932  302369.0              92  "
      ]
     },
     "execution_count": 4,
     "metadata": {},
     "output_type": "execute_result"
    }
   ],
   "source": [
    "# Vérification du succès de l'opération\n",
    "dataset.head()"
   ]
  },
  {
   "cell_type": "code",
   "execution_count": 5,
   "metadata": {},
   "outputs": [
    {
     "data": {
      "text/html": [
       "<div>\n",
       "<style scoped>\n",
       "    .dataframe tbody tr th:only-of-type {\n",
       "        vertical-align: middle;\n",
       "    }\n",
       "\n",
       "    .dataframe tbody tr th {\n",
       "        vertical-align: top;\n",
       "    }\n",
       "\n",
       "    .dataframe thead th {\n",
       "        text-align: right;\n",
       "    }\n",
       "</style>\n",
       "<table border=\"1\" class=\"dataframe\">\n",
       "  <thead>\n",
       "    <tr style=\"text-align: right;\">\n",
       "      <th></th>\n",
       "      <th>ENTREPRISES</th>\n",
       "      <th>PROJETS</th>\n",
       "      <th>THEMATIQUE</th>\n",
       "      <th>PAGE</th>\n",
       "      <th>VAGUE</th>\n",
       "      <th>URL_FICH_ORIGINE</th>\n",
       "      <th>REALISATION_DEBUT</th>\n",
       "      <th>REALISATION_FIN</th>\n",
       "      <th>MONTANT</th>\n",
       "      <th>AIDE</th>\n",
       "      <th>DEPT</th>\n",
       "    </tr>\n",
       "  </thead>\n",
       "  <tbody>\n",
       "    <tr>\n",
       "      <th>634</th>\n",
       "      <td>SAS Open Stent Solution</td>\n",
       "      <td>NESTO</td>\n",
       "      <td>SANTÉ</td>\n",
       "      <td>78</td>\n",
       "      <td>10</td>\n",
       "      <td>../Data/vague_7_10/i-nov-palmar-s-vague-10-286...</td>\n",
       "      <td>2023</td>\n",
       "      <td>2024.0</td>\n",
       "      <td>3554476</td>\n",
       "      <td>1599514.0</td>\n",
       "      <td>80</td>\n",
       "    </tr>\n",
       "    <tr>\n",
       "      <th>635</th>\n",
       "      <td>Sensome</td>\n",
       "      <td>SPELL</td>\n",
       "      <td>SANTÉ</td>\n",
       "      <td>80</td>\n",
       "      <td>10</td>\n",
       "      <td>../Data/vague_7_10/i-nov-palmar-s-vague-10-286...</td>\n",
       "      <td>2023</td>\n",
       "      <td>2026.0</td>\n",
       "      <td>3512413</td>\n",
       "      <td>1580584.0</td>\n",
       "      <td>91</td>\n",
       "    </tr>\n",
       "    <tr>\n",
       "      <th>636</th>\n",
       "      <td>Swallis Medical</td>\n",
       "      <td>Handy-Swallow III</td>\n",
       "      <td>SANTÉ</td>\n",
       "      <td>72</td>\n",
       "      <td>10</td>\n",
       "      <td>../Data/vague_7_10/i-nov-palmar-s-vague-10-286...</td>\n",
       "      <td>2022</td>\n",
       "      <td>2025.0</td>\n",
       "      <td>1690500</td>\n",
       "      <td>760725.0</td>\n",
       "      <td>31</td>\n",
       "    </tr>\n",
       "    <tr>\n",
       "      <th>637</th>\n",
       "      <td>Therapanacea</td>\n",
       "      <td>ProphesIA</td>\n",
       "      <td>SANTÉ</td>\n",
       "      <td>79</td>\n",
       "      <td>10</td>\n",
       "      <td>../Data/vague_7_10/i-nov-palmar-s-vague-10-286...</td>\n",
       "      <td>2023</td>\n",
       "      <td>2025.0</td>\n",
       "      <td>4855096</td>\n",
       "      <td>2184792.0</td>\n",
       "      <td>75</td>\n",
       "    </tr>\n",
       "    <tr>\n",
       "      <th>638</th>\n",
       "      <td>WAINVAM-E</td>\n",
       "      <td>WELFA-DeNV</td>\n",
       "      <td>SANTÉ</td>\n",
       "      <td>83</td>\n",
       "      <td>10</td>\n",
       "      <td>../Data/vague_7_10/i-nov-palmar-s-vague-10-286...</td>\n",
       "      <td>2023</td>\n",
       "      <td>2025.0</td>\n",
       "      <td>1168795</td>\n",
       "      <td>525956.0</td>\n",
       "      <td>56</td>\n",
       "    </tr>\n",
       "  </tbody>\n",
       "</table>\n",
       "</div>"
      ],
      "text/plain": [
       "                 ENTREPRISES            PROJETS THEMATIQUE  PAGE  VAGUE  \\\n",
       "634  SAS Open Stent Solution              NESTO      SANTÉ    78     10   \n",
       "635                  Sensome              SPELL      SANTÉ    80     10   \n",
       "636          Swallis Medical  Handy-Swallow III      SANTÉ    72     10   \n",
       "637             Therapanacea          ProphesIA      SANTÉ    79     10   \n",
       "638                WAINVAM-E         WELFA-DeNV      SANTÉ    83     10   \n",
       "\n",
       "                                      URL_FICH_ORIGINE  REALISATION_DEBUT  \\\n",
       "634  ../Data/vague_7_10/i-nov-palmar-s-vague-10-286...               2023   \n",
       "635  ../Data/vague_7_10/i-nov-palmar-s-vague-10-286...               2023   \n",
       "636  ../Data/vague_7_10/i-nov-palmar-s-vague-10-286...               2022   \n",
       "637  ../Data/vague_7_10/i-nov-palmar-s-vague-10-286...               2023   \n",
       "638  ../Data/vague_7_10/i-nov-palmar-s-vague-10-286...               2023   \n",
       "\n",
       "     REALISATION_FIN  MONTANT       AIDE DEPT  \n",
       "634           2024.0  3554476  1599514.0   80  \n",
       "635           2026.0  3512413  1580584.0   91  \n",
       "636           2025.0  1690500   760725.0   31  \n",
       "637           2025.0  4855096  2184792.0   75  \n",
       "638           2025.0  1168795   525956.0   56  "
      ]
     },
     "execution_count": 5,
     "metadata": {},
     "output_type": "execute_result"
    }
   ],
   "source": [
    "# Pour les dernières lignes\n",
    "dataset.tail()"
   ]
  },
  {
   "cell_type": "code",
   "execution_count": null,
   "metadata": {},
   "outputs": [
    {
     "data": {
      "text/plain": [
       "Index(['ENTREPRISES', 'PROJETS', 'THEMATIQUE', 'PAGE', 'VAGUE',\n",
       "       'URL_FICH_ORIGINE', 'REALISATION_DEBUT', 'REALISATION_FIN', 'MONTANT',\n",
       "       'AIDE', 'DEPT'],\n",
       "      dtype='object')"
      ]
     },
     "execution_count": 36,
     "metadata": {},
     "output_type": "execute_result"
    }
   ],
   "source": [
    "# Observer les noms des différentes colonnes\n",
    "dataset.columns"
   ]
  },
  {
   "cell_type": "code",
   "execution_count": null,
   "metadata": {},
   "outputs": [
    {
     "data": {
      "text/plain": [
       "ENTREPRISES           object\n",
       "PROJETS               object\n",
       "THEMATIQUE            object\n",
       "PAGE                   int64\n",
       "VAGUE                  int64\n",
       "URL_FICH_ORIGINE      object\n",
       "REALISATION_DEBUT      int64\n",
       "REALISATION_FIN      float64\n",
       "MONTANT               object\n",
       "AIDE                 float64\n",
       "DEPT                  object\n",
       "dtype: object"
      ]
     },
     "execution_count": 37,
     "metadata": {},
     "output_type": "execute_result"
    }
   ],
   "source": [
    "# Observer leurs colonnes et leurs types\n",
    "dataset.dtypes"
   ]
  },
  {
   "cell_type": "markdown",
   "metadata": {},
   "source": [
    "## Préparation des données \n",
    "\n",
    "### Pour les années de réalisations \n",
    "Observation des valeurs manquantes au niveau de **REALISATION_FIN** et remplacement par leurs valeurs de **REALISATION_DEBUT**."
   ]
  },
  {
   "cell_type": "code",
   "execution_count": 10,
   "metadata": {},
   "outputs": [
    {
     "data": {
      "text/html": [
       "<div>\n",
       "<style scoped>\n",
       "    .dataframe tbody tr th:only-of-type {\n",
       "        vertical-align: middle;\n",
       "    }\n",
       "\n",
       "    .dataframe tbody tr th {\n",
       "        vertical-align: top;\n",
       "    }\n",
       "\n",
       "    .dataframe thead th {\n",
       "        text-align: right;\n",
       "    }\n",
       "</style>\n",
       "<table border=\"1\" class=\"dataframe\">\n",
       "  <thead>\n",
       "    <tr style=\"text-align: right;\">\n",
       "      <th></th>\n",
       "      <th>ENTREPRISES</th>\n",
       "      <th>PROJETS</th>\n",
       "      <th>THEMATIQUE</th>\n",
       "      <th>PAGE</th>\n",
       "      <th>VAGUE</th>\n",
       "      <th>URL_FICH_ORIGINE</th>\n",
       "      <th>REALISATION_DEBUT</th>\n",
       "      <th>REALISATION_FIN</th>\n",
       "      <th>MONTANT</th>\n",
       "      <th>AIDE</th>\n",
       "      <th>DEPT</th>\n",
       "    </tr>\n",
       "  </thead>\n",
       "  <tbody>\n",
       "    <tr>\n",
       "      <th>259</th>\n",
       "      <td>SAS Consilium</td>\n",
       "      <td>NeuroChain</td>\n",
       "      <td>NUMÉRIQUE DEEP TECH</td>\n",
       "      <td>57</td>\n",
       "      <td>4</td>\n",
       "      <td>../Data/vague_1_6/i-nov-palmar-s-vague-4-19078...</td>\n",
       "      <td>2020</td>\n",
       "      <td>NaN</td>\n",
       "      <td>605858</td>\n",
       "      <td>272636.0</td>\n",
       "      <td>75</td>\n",
       "    </tr>\n",
       "    <tr>\n",
       "      <th>374</th>\n",
       "      <td>Inovadea</td>\n",
       "      <td>SPEEED</td>\n",
       "      <td>PERFORMANCE ENVIRONNEMENTALE DES BÂTIMENTS</td>\n",
       "      <td>30</td>\n",
       "      <td>6</td>\n",
       "      <td>../Data/vague_1_6/i-nov-palmar-s-vague-6-19072...</td>\n",
       "      <td>2021</td>\n",
       "      <td>NaN</td>\n",
       "      <td>665000</td>\n",
       "      <td>299250.0</td>\n",
       "      <td>06</td>\n",
       "    </tr>\n",
       "  </tbody>\n",
       "</table>\n",
       "</div>"
      ],
      "text/plain": [
       "       ENTREPRISES     PROJETS                                  THEMATIQUE  \\\n",
       "259  SAS Consilium  NeuroChain                         NUMÉRIQUE DEEP TECH   \n",
       "374       Inovadea      SPEEED  PERFORMANCE ENVIRONNEMENTALE DES BÂTIMENTS   \n",
       "\n",
       "     PAGE  VAGUE                                   URL_FICH_ORIGINE  \\\n",
       "259    57      4  ../Data/vague_1_6/i-nov-palmar-s-vague-4-19078...   \n",
       "374    30      6  ../Data/vague_1_6/i-nov-palmar-s-vague-6-19072...   \n",
       "\n",
       "     REALISATION_DEBUT  REALISATION_FIN MONTANT      AIDE DEPT  \n",
       "259               2020              NaN  605858  272636.0   75  \n",
       "374               2021              NaN  665000  299250.0   06  "
      ]
     },
     "execution_count": 10,
     "metadata": {},
     "output_type": "execute_result"
    }
   ],
   "source": [
    "# Regarder les valeurs manquantes \n",
    "dataset[pd.isna(dataset[\"REALISATION_FIN\"])]"
   ]
  },
  {
   "cell_type": "code",
   "execution_count": 28,
   "metadata": {},
   "outputs": [],
   "source": [
    "# Remplacer les valeurs manquantes par les valeurs REALISATION_DEBUT\n",
    "valeurs_manquantes = dataset[pd.isna(dataset[\"REALISATION_FIN\"])]"
   ]
  },
  {
   "cell_type": "code",
   "execution_count": 33,
   "metadata": {},
   "outputs": [
    {
     "data": {
      "text/html": [
       "<div>\n",
       "<style scoped>\n",
       "    .dataframe tbody tr th:only-of-type {\n",
       "        vertical-align: middle;\n",
       "    }\n",
       "\n",
       "    .dataframe tbody tr th {\n",
       "        vertical-align: top;\n",
       "    }\n",
       "\n",
       "    .dataframe thead th {\n",
       "        text-align: right;\n",
       "    }\n",
       "</style>\n",
       "<table border=\"1\" class=\"dataframe\">\n",
       "  <thead>\n",
       "    <tr style=\"text-align: right;\">\n",
       "      <th></th>\n",
       "      <th>ENTREPRISES</th>\n",
       "      <th>PROJETS</th>\n",
       "      <th>THEMATIQUE</th>\n",
       "      <th>PAGE</th>\n",
       "      <th>VAGUE</th>\n",
       "      <th>URL_FICH_ORIGINE</th>\n",
       "      <th>REALISATION_DEBUT</th>\n",
       "      <th>REALISATION_FIN</th>\n",
       "      <th>MONTANT</th>\n",
       "      <th>AIDE</th>\n",
       "      <th>DEPT</th>\n",
       "    </tr>\n",
       "  </thead>\n",
       "  <tbody>\n",
       "    <tr>\n",
       "      <th>259</th>\n",
       "      <td>SAS Consilium</td>\n",
       "      <td>NeuroChain</td>\n",
       "      <td>NUMÉRIQUE DEEP TECH</td>\n",
       "      <td>57</td>\n",
       "      <td>4</td>\n",
       "      <td>../Data/vague_1_6/i-nov-palmar-s-vague-4-19078...</td>\n",
       "      <td>2020</td>\n",
       "      <td>NaN</td>\n",
       "      <td>605858</td>\n",
       "      <td>272636.0</td>\n",
       "      <td>75</td>\n",
       "    </tr>\n",
       "    <tr>\n",
       "      <th>374</th>\n",
       "      <td>Inovadea</td>\n",
       "      <td>SPEEED</td>\n",
       "      <td>PERFORMANCE ENVIRONNEMENTALE DES BÂTIMENTS</td>\n",
       "      <td>30</td>\n",
       "      <td>6</td>\n",
       "      <td>../Data/vague_1_6/i-nov-palmar-s-vague-6-19072...</td>\n",
       "      <td>2021</td>\n",
       "      <td>NaN</td>\n",
       "      <td>665000</td>\n",
       "      <td>299250.0</td>\n",
       "      <td>06</td>\n",
       "    </tr>\n",
       "  </tbody>\n",
       "</table>\n",
       "</div>"
      ],
      "text/plain": [
       "       ENTREPRISES     PROJETS                                  THEMATIQUE  \\\n",
       "259  SAS Consilium  NeuroChain                         NUMÉRIQUE DEEP TECH   \n",
       "374       Inovadea      SPEEED  PERFORMANCE ENVIRONNEMENTALE DES BÂTIMENTS   \n",
       "\n",
       "     PAGE  VAGUE                                   URL_FICH_ORIGINE  \\\n",
       "259    57      4  ../Data/vague_1_6/i-nov-palmar-s-vague-4-19078...   \n",
       "374    30      6  ../Data/vague_1_6/i-nov-palmar-s-vague-6-19072...   \n",
       "\n",
       "     REALISATION_DEBUT  REALISATION_FIN MONTANT      AIDE DEPT  \n",
       "259               2020              NaN  605858  272636.0   75  \n",
       "374               2021              NaN  665000  299250.0   06  "
      ]
     },
     "execution_count": 33,
     "metadata": {},
     "output_type": "execute_result"
    }
   ],
   "source": [
    "# Vérification du succès de l'opération\n",
    "valeurs_manquantes"
   ]
  },
  {
   "cell_type": "code",
   "execution_count": 35,
   "metadata": {},
   "outputs": [],
   "source": [
    "# Remplacer les valeurs manquantes\n",
    "dataset.REALISATION_FIN = dataset.REALISATION_FIN.fillna(dataset.REALISATION_DEBUT)"
   ]
  },
  {
   "cell_type": "code",
   "execution_count": null,
   "metadata": {},
   "outputs": [
    {
     "data": {
      "text/html": [
       "<div>\n",
       "<style scoped>\n",
       "    .dataframe tbody tr th:only-of-type {\n",
       "        vertical-align: middle;\n",
       "    }\n",
       "\n",
       "    .dataframe tbody tr th {\n",
       "        vertical-align: top;\n",
       "    }\n",
       "\n",
       "    .dataframe thead th {\n",
       "        text-align: right;\n",
       "    }\n",
       "</style>\n",
       "<table border=\"1\" class=\"dataframe\">\n",
       "  <thead>\n",
       "    <tr style=\"text-align: right;\">\n",
       "      <th></th>\n",
       "      <th>ENTREPRISES</th>\n",
       "      <th>PROJETS</th>\n",
       "      <th>THEMATIQUE</th>\n",
       "      <th>PAGE</th>\n",
       "      <th>VAGUE</th>\n",
       "      <th>URL_FICH_ORIGINE</th>\n",
       "      <th>REALISATION_DEBUT</th>\n",
       "      <th>REALISATION_FIN</th>\n",
       "      <th>MONTANT</th>\n",
       "      <th>AIDE</th>\n",
       "      <th>DEPT</th>\n",
       "    </tr>\n",
       "  </thead>\n",
       "  <tbody>\n",
       "  </tbody>\n",
       "</table>\n",
       "</div>"
      ],
      "text/plain": [
       "Empty DataFrame\n",
       "Columns: [ENTREPRISES, PROJETS, THEMATIQUE, PAGE, VAGUE, URL_FICH_ORIGINE, REALISATION_DEBUT, REALISATION_FIN, MONTANT, AIDE, DEPT]\n",
       "Index: []"
      ]
     },
     "execution_count": 34,
     "metadata": {},
     "output_type": "execute_result"
    }
   ],
   "source": [
    "# Vérification du succès de l'opération\n",
    "dataset[pd.isna(dataset[\"REALISATION_FIN\"])]"
   ]
  },
  {
   "cell_type": "markdown",
   "metadata": {},
   "source": [
    "### Changer les types de variables\n",
    "On peut observer dans l'attribut *dtypes* que nous avons plusieurs colonnes avec le mauvais type. Nous allons modifier cela."
   ]
  },
  {
   "cell_type": "code",
   "execution_count": 41,
   "metadata": {},
   "outputs": [],
   "source": [
    "# Changement de type\n",
    "dataset[\"REALISATION_FIN\"] = dataset[\"REALISATION_FIN\"].astype('int64')"
   ]
  },
  {
   "cell_type": "code",
   "execution_count": 42,
   "metadata": {},
   "outputs": [
    {
     "data": {
      "text/plain": [
       "ENTREPRISES           object\n",
       "PROJETS               object\n",
       "THEMATIQUE            object\n",
       "PAGE                   int64\n",
       "VAGUE                  int64\n",
       "URL_FICH_ORIGINE      object\n",
       "REALISATION_DEBUT      int64\n",
       "REALISATION_FIN        int64\n",
       "MONTANT               object\n",
       "AIDE                 float64\n",
       "DEPT                  object\n",
       "dtype: object"
      ]
     },
     "execution_count": 42,
     "metadata": {},
     "output_type": "execute_result"
    }
   ],
   "source": [
    "# Vérification du succès de l'opération\n",
    "dataset.dtypes"
   ]
  },
  {
   "cell_type": "code",
   "execution_count": 43,
   "metadata": {},
   "outputs": [
    {
     "ename": "ValueError",
     "evalue": "could not convert string to float: '4,4e+12'",
     "output_type": "error",
     "traceback": [
      "\u001b[1;31m---------------------------------------------------------------------------\u001b[0m",
      "\u001b[1;31mValueError\u001b[0m                                Traceback (most recent call last)",
      "Cell \u001b[1;32mIn[43], line 2\u001b[0m\n\u001b[0;32m      1\u001b[0m \u001b[38;5;66;03m# Changement de type pour le montant\u001b[39;00m\n\u001b[1;32m----> 2\u001b[0m \u001b[43mdataset\u001b[49m\u001b[43m[\u001b[49m\u001b[38;5;124;43m\"\u001b[39;49m\u001b[38;5;124;43mMONTANT\u001b[39;49m\u001b[38;5;124;43m\"\u001b[39;49m\u001b[43m]\u001b[49m\u001b[38;5;241;43m.\u001b[39;49m\u001b[43mastype\u001b[49m\u001b[43m(\u001b[49m\u001b[38;5;124;43m\"\u001b[39;49m\u001b[38;5;124;43mfloat64\u001b[39;49m\u001b[38;5;124;43m\"\u001b[39;49m\u001b[43m)\u001b[49m\n",
      "File \u001b[1;32md:\\BUT\\Concours_inov\\Analyse\\envConcours\\lib\\site-packages\\pandas\\core\\generic.py:6643\u001b[0m, in \u001b[0;36mNDFrame.astype\u001b[1;34m(self, dtype, copy, errors)\u001b[0m\n\u001b[0;32m   6637\u001b[0m     results \u001b[38;5;241m=\u001b[39m [\n\u001b[0;32m   6638\u001b[0m         ser\u001b[38;5;241m.\u001b[39mastype(dtype, copy\u001b[38;5;241m=\u001b[39mcopy, errors\u001b[38;5;241m=\u001b[39merrors) \u001b[38;5;28;01mfor\u001b[39;00m _, ser \u001b[38;5;129;01min\u001b[39;00m \u001b[38;5;28mself\u001b[39m\u001b[38;5;241m.\u001b[39mitems()\n\u001b[0;32m   6639\u001b[0m     ]\n\u001b[0;32m   6641\u001b[0m \u001b[38;5;28;01melse\u001b[39;00m:\n\u001b[0;32m   6642\u001b[0m     \u001b[38;5;66;03m# else, only a single dtype is given\u001b[39;00m\n\u001b[1;32m-> 6643\u001b[0m     new_data \u001b[38;5;241m=\u001b[39m \u001b[38;5;28;43mself\u001b[39;49m\u001b[38;5;241;43m.\u001b[39;49m\u001b[43m_mgr\u001b[49m\u001b[38;5;241;43m.\u001b[39;49m\u001b[43mastype\u001b[49m\u001b[43m(\u001b[49m\u001b[43mdtype\u001b[49m\u001b[38;5;241;43m=\u001b[39;49m\u001b[43mdtype\u001b[49m\u001b[43m,\u001b[49m\u001b[43m \u001b[49m\u001b[43mcopy\u001b[49m\u001b[38;5;241;43m=\u001b[39;49m\u001b[43mcopy\u001b[49m\u001b[43m,\u001b[49m\u001b[43m \u001b[49m\u001b[43merrors\u001b[49m\u001b[38;5;241;43m=\u001b[39;49m\u001b[43merrors\u001b[49m\u001b[43m)\u001b[49m\n\u001b[0;32m   6644\u001b[0m     res \u001b[38;5;241m=\u001b[39m \u001b[38;5;28mself\u001b[39m\u001b[38;5;241m.\u001b[39m_constructor_from_mgr(new_data, axes\u001b[38;5;241m=\u001b[39mnew_data\u001b[38;5;241m.\u001b[39maxes)\n\u001b[0;32m   6645\u001b[0m     \u001b[38;5;28;01mreturn\u001b[39;00m res\u001b[38;5;241m.\u001b[39m__finalize__(\u001b[38;5;28mself\u001b[39m, method\u001b[38;5;241m=\u001b[39m\u001b[38;5;124m\"\u001b[39m\u001b[38;5;124mastype\u001b[39m\u001b[38;5;124m\"\u001b[39m)\n",
      "File \u001b[1;32md:\\BUT\\Concours_inov\\Analyse\\envConcours\\lib\\site-packages\\pandas\\core\\internals\\managers.py:430\u001b[0m, in \u001b[0;36mBaseBlockManager.astype\u001b[1;34m(self, dtype, copy, errors)\u001b[0m\n\u001b[0;32m    427\u001b[0m \u001b[38;5;28;01melif\u001b[39;00m using_copy_on_write():\n\u001b[0;32m    428\u001b[0m     copy \u001b[38;5;241m=\u001b[39m \u001b[38;5;28;01mFalse\u001b[39;00m\n\u001b[1;32m--> 430\u001b[0m \u001b[38;5;28;01mreturn\u001b[39;00m \u001b[38;5;28;43mself\u001b[39;49m\u001b[38;5;241;43m.\u001b[39;49m\u001b[43mapply\u001b[49m\u001b[43m(\u001b[49m\n\u001b[0;32m    431\u001b[0m \u001b[43m    \u001b[49m\u001b[38;5;124;43m\"\u001b[39;49m\u001b[38;5;124;43mastype\u001b[39;49m\u001b[38;5;124;43m\"\u001b[39;49m\u001b[43m,\u001b[49m\n\u001b[0;32m    432\u001b[0m \u001b[43m    \u001b[49m\u001b[43mdtype\u001b[49m\u001b[38;5;241;43m=\u001b[39;49m\u001b[43mdtype\u001b[49m\u001b[43m,\u001b[49m\n\u001b[0;32m    433\u001b[0m \u001b[43m    \u001b[49m\u001b[43mcopy\u001b[49m\u001b[38;5;241;43m=\u001b[39;49m\u001b[43mcopy\u001b[49m\u001b[43m,\u001b[49m\n\u001b[0;32m    434\u001b[0m \u001b[43m    \u001b[49m\u001b[43merrors\u001b[49m\u001b[38;5;241;43m=\u001b[39;49m\u001b[43merrors\u001b[49m\u001b[43m,\u001b[49m\n\u001b[0;32m    435\u001b[0m \u001b[43m    \u001b[49m\u001b[43musing_cow\u001b[49m\u001b[38;5;241;43m=\u001b[39;49m\u001b[43musing_copy_on_write\u001b[49m\u001b[43m(\u001b[49m\u001b[43m)\u001b[49m\u001b[43m,\u001b[49m\n\u001b[0;32m    436\u001b[0m \u001b[43m\u001b[49m\u001b[43m)\u001b[49m\n",
      "File \u001b[1;32md:\\BUT\\Concours_inov\\Analyse\\envConcours\\lib\\site-packages\\pandas\\core\\internals\\managers.py:363\u001b[0m, in \u001b[0;36mBaseBlockManager.apply\u001b[1;34m(self, f, align_keys, **kwargs)\u001b[0m\n\u001b[0;32m    361\u001b[0m         applied \u001b[38;5;241m=\u001b[39m b\u001b[38;5;241m.\u001b[39mapply(f, \u001b[38;5;241m*\u001b[39m\u001b[38;5;241m*\u001b[39mkwargs)\n\u001b[0;32m    362\u001b[0m     \u001b[38;5;28;01melse\u001b[39;00m:\n\u001b[1;32m--> 363\u001b[0m         applied \u001b[38;5;241m=\u001b[39m \u001b[38;5;28mgetattr\u001b[39m(b, f)(\u001b[38;5;241m*\u001b[39m\u001b[38;5;241m*\u001b[39mkwargs)\n\u001b[0;32m    364\u001b[0m     result_blocks \u001b[38;5;241m=\u001b[39m extend_blocks(applied, result_blocks)\n\u001b[0;32m    366\u001b[0m out \u001b[38;5;241m=\u001b[39m \u001b[38;5;28mtype\u001b[39m(\u001b[38;5;28mself\u001b[39m)\u001b[38;5;241m.\u001b[39mfrom_blocks(result_blocks, \u001b[38;5;28mself\u001b[39m\u001b[38;5;241m.\u001b[39maxes)\n",
      "File \u001b[1;32md:\\BUT\\Concours_inov\\Analyse\\envConcours\\lib\\site-packages\\pandas\\core\\internals\\blocks.py:758\u001b[0m, in \u001b[0;36mBlock.astype\u001b[1;34m(self, dtype, copy, errors, using_cow, squeeze)\u001b[0m\n\u001b[0;32m    755\u001b[0m         \u001b[38;5;28;01mraise\u001b[39;00m \u001b[38;5;167;01mValueError\u001b[39;00m(\u001b[38;5;124m\"\u001b[39m\u001b[38;5;124mCan not squeeze with more than one column.\u001b[39m\u001b[38;5;124m\"\u001b[39m)\n\u001b[0;32m    756\u001b[0m     values \u001b[38;5;241m=\u001b[39m values[\u001b[38;5;241m0\u001b[39m, :]  \u001b[38;5;66;03m# type: ignore[call-overload]\u001b[39;00m\n\u001b[1;32m--> 758\u001b[0m new_values \u001b[38;5;241m=\u001b[39m \u001b[43mastype_array_safe\u001b[49m\u001b[43m(\u001b[49m\u001b[43mvalues\u001b[49m\u001b[43m,\u001b[49m\u001b[43m \u001b[49m\u001b[43mdtype\u001b[49m\u001b[43m,\u001b[49m\u001b[43m \u001b[49m\u001b[43mcopy\u001b[49m\u001b[38;5;241;43m=\u001b[39;49m\u001b[43mcopy\u001b[49m\u001b[43m,\u001b[49m\u001b[43m \u001b[49m\u001b[43merrors\u001b[49m\u001b[38;5;241;43m=\u001b[39;49m\u001b[43merrors\u001b[49m\u001b[43m)\u001b[49m\n\u001b[0;32m    760\u001b[0m new_values \u001b[38;5;241m=\u001b[39m maybe_coerce_values(new_values)\n\u001b[0;32m    762\u001b[0m refs \u001b[38;5;241m=\u001b[39m \u001b[38;5;28;01mNone\u001b[39;00m\n",
      "File \u001b[1;32md:\\BUT\\Concours_inov\\Analyse\\envConcours\\lib\\site-packages\\pandas\\core\\dtypes\\astype.py:237\u001b[0m, in \u001b[0;36mastype_array_safe\u001b[1;34m(values, dtype, copy, errors)\u001b[0m\n\u001b[0;32m    234\u001b[0m     dtype \u001b[38;5;241m=\u001b[39m dtype\u001b[38;5;241m.\u001b[39mnumpy_dtype\n\u001b[0;32m    236\u001b[0m \u001b[38;5;28;01mtry\u001b[39;00m:\n\u001b[1;32m--> 237\u001b[0m     new_values \u001b[38;5;241m=\u001b[39m \u001b[43mastype_array\u001b[49m\u001b[43m(\u001b[49m\u001b[43mvalues\u001b[49m\u001b[43m,\u001b[49m\u001b[43m \u001b[49m\u001b[43mdtype\u001b[49m\u001b[43m,\u001b[49m\u001b[43m \u001b[49m\u001b[43mcopy\u001b[49m\u001b[38;5;241;43m=\u001b[39;49m\u001b[43mcopy\u001b[49m\u001b[43m)\u001b[49m\n\u001b[0;32m    238\u001b[0m \u001b[38;5;28;01mexcept\u001b[39;00m (\u001b[38;5;167;01mValueError\u001b[39;00m, \u001b[38;5;167;01mTypeError\u001b[39;00m):\n\u001b[0;32m    239\u001b[0m     \u001b[38;5;66;03m# e.g. _astype_nansafe can fail on object-dtype of strings\u001b[39;00m\n\u001b[0;32m    240\u001b[0m     \u001b[38;5;66;03m#  trying to convert to float\u001b[39;00m\n\u001b[0;32m    241\u001b[0m     \u001b[38;5;28;01mif\u001b[39;00m errors \u001b[38;5;241m==\u001b[39m \u001b[38;5;124m\"\u001b[39m\u001b[38;5;124mignore\u001b[39m\u001b[38;5;124m\"\u001b[39m:\n",
      "File \u001b[1;32md:\\BUT\\Concours_inov\\Analyse\\envConcours\\lib\\site-packages\\pandas\\core\\dtypes\\astype.py:182\u001b[0m, in \u001b[0;36mastype_array\u001b[1;34m(values, dtype, copy)\u001b[0m\n\u001b[0;32m    179\u001b[0m     values \u001b[38;5;241m=\u001b[39m values\u001b[38;5;241m.\u001b[39mastype(dtype, copy\u001b[38;5;241m=\u001b[39mcopy)\n\u001b[0;32m    181\u001b[0m \u001b[38;5;28;01melse\u001b[39;00m:\n\u001b[1;32m--> 182\u001b[0m     values \u001b[38;5;241m=\u001b[39m \u001b[43m_astype_nansafe\u001b[49m\u001b[43m(\u001b[49m\u001b[43mvalues\u001b[49m\u001b[43m,\u001b[49m\u001b[43m \u001b[49m\u001b[43mdtype\u001b[49m\u001b[43m,\u001b[49m\u001b[43m \u001b[49m\u001b[43mcopy\u001b[49m\u001b[38;5;241;43m=\u001b[39;49m\u001b[43mcopy\u001b[49m\u001b[43m)\u001b[49m\n\u001b[0;32m    184\u001b[0m \u001b[38;5;66;03m# in pandas we don't store numpy str dtypes, so convert to object\u001b[39;00m\n\u001b[0;32m    185\u001b[0m \u001b[38;5;28;01mif\u001b[39;00m \u001b[38;5;28misinstance\u001b[39m(dtype, np\u001b[38;5;241m.\u001b[39mdtype) \u001b[38;5;129;01mand\u001b[39;00m \u001b[38;5;28missubclass\u001b[39m(values\u001b[38;5;241m.\u001b[39mdtype\u001b[38;5;241m.\u001b[39mtype, \u001b[38;5;28mstr\u001b[39m):\n",
      "File \u001b[1;32md:\\BUT\\Concours_inov\\Analyse\\envConcours\\lib\\site-packages\\pandas\\core\\dtypes\\astype.py:133\u001b[0m, in \u001b[0;36m_astype_nansafe\u001b[1;34m(arr, dtype, copy, skipna)\u001b[0m\n\u001b[0;32m    129\u001b[0m     \u001b[38;5;28;01mraise\u001b[39;00m \u001b[38;5;167;01mValueError\u001b[39;00m(msg)\n\u001b[0;32m    131\u001b[0m \u001b[38;5;28;01mif\u001b[39;00m copy \u001b[38;5;129;01mor\u001b[39;00m arr\u001b[38;5;241m.\u001b[39mdtype \u001b[38;5;241m==\u001b[39m \u001b[38;5;28mobject\u001b[39m \u001b[38;5;129;01mor\u001b[39;00m dtype \u001b[38;5;241m==\u001b[39m \u001b[38;5;28mobject\u001b[39m:\n\u001b[0;32m    132\u001b[0m     \u001b[38;5;66;03m# Explicit copy, or required since NumPy can't view from / to object.\u001b[39;00m\n\u001b[1;32m--> 133\u001b[0m     \u001b[38;5;28;01mreturn\u001b[39;00m \u001b[43marr\u001b[49m\u001b[38;5;241;43m.\u001b[39;49m\u001b[43mastype\u001b[49m\u001b[43m(\u001b[49m\u001b[43mdtype\u001b[49m\u001b[43m,\u001b[49m\u001b[43m \u001b[49m\u001b[43mcopy\u001b[49m\u001b[38;5;241;43m=\u001b[39;49m\u001b[38;5;28;43;01mTrue\u001b[39;49;00m\u001b[43m)\u001b[49m\n\u001b[0;32m    135\u001b[0m \u001b[38;5;28;01mreturn\u001b[39;00m arr\u001b[38;5;241m.\u001b[39mastype(dtype, copy\u001b[38;5;241m=\u001b[39mcopy)\n",
      "\u001b[1;31mValueError\u001b[0m: could not convert string to float: '4,4e+12'"
     ]
    }
   ],
   "source": [
    "# Changement de type pour le montant\n",
    "dataset[\"MONTANT\"].astype(\"float64\")"
   ]
  },
  {
   "cell_type": "code",
   "execution_count": 62,
   "metadata": {},
   "outputs": [],
   "source": [
    "# Observation de l'erreur (remplacer l'erreur par une autre valeur)\n",
    "dataset.loc[204, \"MONTANT\"] = 4400000000000"
   ]
  },
  {
   "cell_type": "code",
   "execution_count": 65,
   "metadata": {},
   "outputs": [],
   "source": [
    "# Changement de type de valeur\n",
    "dataset[\"MONTANT\"] = dataset[\"MONTANT\"].astype(\"float64\")"
   ]
  },
  {
   "cell_type": "code",
   "execution_count": 66,
   "metadata": {},
   "outputs": [
    {
     "data": {
      "text/plain": [
       "ENTREPRISES           object\n",
       "PROJETS               object\n",
       "THEMATIQUE            object\n",
       "PAGE                   int64\n",
       "VAGUE                  int64\n",
       "URL_FICH_ORIGINE      object\n",
       "REALISATION_DEBUT      int64\n",
       "REALISATION_FIN        int64\n",
       "MONTANT              float64\n",
       "AIDE                 float64\n",
       "DEPT                  object\n",
       "dtype: object"
      ]
     },
     "execution_count": 66,
     "metadata": {},
     "output_type": "execute_result"
    }
   ],
   "source": [
    "# Vérification du succès de l'opération\n",
    "dataset.dtypes"
   ]
  },
  {
   "cell_type": "markdown",
   "metadata": {},
   "source": [
    "## Analyse des données (à faire plus tard)"
   ]
  }
 ],
 "metadata": {
  "kernelspec": {
   "display_name": "envConcours",
   "language": "python",
   "name": "python3"
  },
  "language_info": {
   "codemirror_mode": {
    "name": "ipython",
    "version": 3
   },
   "file_extension": ".py",
   "mimetype": "text/x-python",
   "name": "python",
   "nbconvert_exporter": "python",
   "pygments_lexer": "ipython3",
   "version": "3.10.11"
  }
 },
 "nbformat": 4,
 "nbformat_minor": 2
}
